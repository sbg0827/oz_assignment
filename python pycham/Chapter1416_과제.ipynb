{
 "cells": [
  {
   "cell_type": "markdown",
   "metadata": {
    "id": "BX7SgOeWu86I"
   },
   "source": [
    "안녕하세요. 수강생 여러분~! Chapter14 ~ 16 수업은 잘 들으셨나요?\n",
    "\n",
    "Chapter14 ~ 16의 수업 내용을 바탕으로 아래 문제를 풀어주시면 됩니다.\n",
    "\n",
    "[**답변 입력 방법**]\n",
    "\n",
    "문제 아래에 있는 코드 입력창에 정답코드를 작성하신 후 ▷ 버튼을 클릭해 코드를 실행해보세요<br>"
   ]
  },
  {
   "cell_type": "markdown",
   "metadata": {},
   "source": [
    "---"
   ]
  },
  {
   "cell_type": "markdown",
   "metadata": {
    "id": "7kQJMRuFu-6s"
   },
   "source": [
    "[문제1]\n",
    "\n",
    "주어진 정수 x와 자연수 n을 이용해, x부터 시작해 x씩 증가하는 숫자를 n개 지니는 리스트를 출력해주세요   \n",
    "\n",
    "x = 2, n =5"
   ]
  },
  {
   "cell_type": "code",
   "metadata": {
    "id": "juUF2KYbu0DX",
    "ExecuteTime": {
     "end_time": "2024-10-19T11:34:28.353766Z",
     "start_time": "2024-10-19T11:34:28.350378Z"
    }
   },
   "source": [
    "x = 2\n",
    "n = 5\n",
    "result = [x * i for i in range(1, n + 1)]\n",
    "print(result)\n",
    "\n"
   ],
   "outputs": [
    {
     "name": "stdout",
     "output_type": "stream",
     "text": [
      "[2, 4, 6, 8, 10]\n"
     ]
    }
   ],
   "execution_count": 4
  },
  {
   "cell_type": "markdown",
   "metadata": {},
   "source": [
    "---"
   ]
  },
  {
   "cell_type": "markdown",
   "metadata": {
    "id": "4BPXMLXUvBVL"
   },
   "source": [
    "[문제2]\n",
    "\n",
    "전화번호가 문자열 phone_number로 주어졌을 때, 전화번호의 뒷 4자리를 *으로 가린 문자열이 출력되도록 코드를 작성해주세요\n",
    "\n",
    "phone_number = \"01012347890\"  \n",
    "\n",
    "출력 예시 : \"0101234****\""
   ]
  },
  {
   "cell_type": "code",
   "metadata": {
    "id": "P0fY7CYUvC_j",
    "ExecuteTime": {
     "end_time": "2024-10-19T11:37:28.799094Z",
     "start_time": "2024-10-19T11:37:28.795647Z"
    }
   },
   "source": [
    "phone_number = \"01012347890\"\n",
    "new_number = phone_number[:-4] + \"****\"\n",
    "print(new_number)\n"
   ],
   "outputs": [
    {
     "name": "stdout",
     "output_type": "stream",
     "text": [
      "0101234****\n"
     ]
    }
   ],
   "execution_count": 5
  },
  {
   "cell_type": "markdown",
   "metadata": {},
   "source": [
    "---"
   ]
  },
  {
   "cell_type": "markdown",
   "metadata": {
    "id": "uUdOU9cFvDsq"
   },
   "source": [
    "[문제3]\n",
    "\n",
    "숫자를 건넬 때 일부 자릿수를 영단어로 바꾼 카드를 건네주면 프로도는 원래 숫자를 찾는 게임입니다.\n",
    "\n",
    "다음은 숫자의 일부 자릿수를 영단어로 바꾸는 예시입니다.\n",
    "\n",
    "1478 → \"one4seveneight\"  \n",
    "234567 → \"23four5six7\"  \n",
    "10203 → \"1zerotwozero3\"    \n",
    "\n",
    "이렇게 숫자의 일부 자릿수가 영단어로 바뀌어졌거나,   \n",
    "혹은 바뀌지 않고 그대로인 문자열 s가 주어졌을때\n",
    "s가 의미하는 원래 숫자를 출력하도록 코드를 작성해주세요\n",
    "\n",
    "s = \"77three4one\n",
    "\n",
    "---\n",
    "참고로 각 숫자에 대응되는 영단어는 다음 표와 같습니다.\n",
    "\n",
    "숫자\t영단어  \n",
    "0\tzero  \n",
    "1\tone  \n",
    "2\ttwo  \n",
    "3\tthree  \n",
    "4\tfour  \n",
    "5\tfive  \n",
    "6\tsix  \n",
    "7\tseven  \n",
    "8\teight  \n",
    "9\tnine  "
   ]
  },
  {
   "cell_type": "code",
   "metadata": {
    "id": "2NmqRFgDvFtz",
    "ExecuteTime": {
     "end_time": "2024-10-19T11:39:18.587019Z",
     "start_time": "2024-10-19T11:39:18.583219Z"
    }
   },
   "source": [
    "num_dict = {\n",
    "    \"zero\": \"0\",\n",
    "    \"one\": \"1\",\n",
    "    \"two\": \"2\",\n",
    "    \"three\": \"3\",\n",
    "    \"four\": \"4\",\n",
    "    \"five\": \"5\",\n",
    "    \"six\": \"6\",\n",
    "    \"seven\": \"7\",\n",
    "    \"eight\": \"8\",\n",
    "    \"nine\": \"9\"\n",
    "}\n",
    "s = \"77three4one\"\n",
    "for key in num_dict.keys():\n",
    "    s = s.replace(key, num_dict[key])\n",
    "    \n",
    "print(s)"
   ],
   "outputs": [
    {
     "name": "stdout",
     "output_type": "stream",
     "text": [
      "77341\n"
     ]
    }
   ],
   "execution_count": 6
  },
  {
   "cell_type": "markdown",
   "metadata": {},
   "source": [
    "---"
   ]
  },
  {
   "cell_type": "markdown",
   "metadata": {
    "id": "J0Tha6AdvGL3"
   },
   "source": [
    "[문제4]\n",
    "\n",
    "행렬의 덧셈은 행과 열의 크기가 같은 두 행렬의 같은 행, 같은 열의 값을 서로 더한 결과가 됩니다. 2개의 행렬 arr1과 arr2가 주어졌을 때, 행렬 덧셈의 결과를 출력하는 코드를 작성해주세요(result와 같은 결과가 출력되도록 작성)\n",
    "\n",
    "arr1 = [[1,2],[2,3]]\n",
    "\n",
    "arr2 = [[3,4],[5,6]]\n",
    "\n",
    "result = [[4,6],[7,9]]"
   ]
  },
  {
   "cell_type": "code",
   "metadata": {
    "id": "ujiXrEhJvIV0",
    "ExecuteTime": {
     "end_time": "2024-10-19T11:44:06.064622Z",
     "start_time": "2024-10-19T11:44:06.060174Z"
    }
   },
   "source": [
    "arr1 = [[1,2],[2,3]]\n",
    "arr2 = [[3,4],[5,6]]\n",
    "\n",
    "result = []\n",
    "for i in range(len(arr1)):\n",
    "    row = []\n",
    "    for j in range(len(arr1[0])):\n",
    "        row.append(arr1[i][j] + arr2[i][j])\n",
    "    result.append(row)\n",
    "\n",
    "print(result)"
   ],
   "outputs": [
    {
     "name": "stdout",
     "output_type": "stream",
     "text": [
      "[[4, 6], [7, 9]]\n"
     ]
    }
   ],
   "execution_count": 7
  },
  {
   "cell_type": "markdown",
   "metadata": {},
   "source": [
    "---"
   ]
  },
  {
   "cell_type": "markdown",
   "metadata": {
    "id": "eLdrWVkavJEN"
   },
   "source": [
    "[문제5]\n",
    "\n",
    "양의 정수 x가 하샤드 수이려면 x의 자릿수의 합으로 x가 나누어져야 합니다.   \n",
    "예를 들어 18의 자릿수 합은 1+8=9이고, 18은 9로 나누어 떨어지므로 18은 하샤드 수입니다.   \n",
    "주어진 x를 이용해 x가 하샤드 수인지 아닌지 검사하는 코드를 작성해주세요\n",
    "\n",
    "x = 17\n",
    "\n",
    "----\n",
    "\n",
    "입출력 예시\n",
    "x\t결과값  \n",
    "10\ttrue  \n",
    "12\ttrue  \n",
    "11\tfalse  \n",
    "13\tfalse  "
   ]
  },
  {
   "cell_type": "code",
   "metadata": {
    "id": "EULD-IOrvKmG",
    "ExecuteTime": {
     "end_time": "2024-10-19T11:46:25.300876Z",
     "start_time": "2024-10-19T11:46:25.297336Z"
    }
   },
   "source": [
    "x = 17\n",
    "num_list = list(map(int, str(x)))\n",
    "result = x % sum(num_list) == 0\n",
    "\n",
    "print(result)"
   ],
   "outputs": [
    {
     "name": "stdout",
     "output_type": "stream",
     "text": [
      "False\n"
     ]
    }
   ],
   "execution_count": 8
  },
  {
   "cell_type": "markdown",
   "metadata": {},
   "source": [
    "---"
   ]
  },
  {
   "cell_type": "markdown",
   "metadata": {
    "id": "GeS6hZhivLMZ"
   },
   "source": [
    "[문제6]\n",
    "\n",
    "String형 배열 seoul의 element중 \"Kim\"의 인덱스 x를 찾아, \"김서방은 x에 있다\"는 String을 출력하는 코드를 작성해주세요.   \n",
    "\n",
    "seoul에 \"Kim\"은 오직 한 번만 나타나며 잘못된 값이 입력되는 경우는 없습니다.\n",
    "\n",
    "seoul = [\"Jane\", \"Kim\"]\n",
    "\n",
    "결과\n",
    "\"김서방은 1에 있다\""
   ]
  },
  {
   "cell_type": "code",
   "metadata": {
    "id": "e4LXat3BvRRg",
    "ExecuteTime": {
     "end_time": "2024-10-19T11:48:14.843326Z",
     "start_time": "2024-10-19T11:48:14.839978Z"
    }
   },
   "source": [
    "seoul = [\"Jane\", \"Kim\"]\n",
    "\n",
    "print(f\"김서방은 {seoul.index('Kim')}에 있다\")"
   ],
   "outputs": [
    {
     "name": "stdout",
     "output_type": "stream",
     "text": [
      "김서방은 1에 있다\n"
     ]
    }
   ],
   "execution_count": 9
  },
  {
   "cell_type": "markdown",
   "metadata": {},
   "source": [
    "---"
   ]
  },
  {
   "cell_type": "markdown",
   "metadata": {
    "id": "iZjKl-ZqvOkm"
   },
   "source": [
    "[문제7]\n",
    "\n",
    "0부터 9까지의 숫자 중 일부가 들어있는 정수 배열 numbers가 주어집니다.   \n",
    "numbers에서 찾을 수 없는 0부터 9까지의 숫자를 모두 찾아 더한 수를 출력해주세요\n",
    "\n",
    "numbers = [5,8,1,0,6,9]"
   ]
  },
  {
   "cell_type": "code",
   "metadata": {
    "id": "598DAkIHvQav",
    "ExecuteTime": {
     "end_time": "2024-10-19T11:49:44.449255Z",
     "start_time": "2024-10-19T11:49:44.445698Z"
    }
   },
   "source": [
    "numbers = [5,8,1,0,6,9]\n",
    "\n",
    "full_set = set(range(10))\n",
    "numbers_set = set(numbers)\n",
    "missing_numbers = full_set - numbers_set\n",
    "result = sum(missing_numbers)\n",
    "\n",
    "print(result)"
   ],
   "outputs": [
    {
     "name": "stdout",
     "output_type": "stream",
     "text": [
      "16\n"
     ]
    }
   ],
   "execution_count": 10
  },
  {
   "cell_type": "markdown",
   "metadata": {},
   "source": [
    "#### 프로젝트: 붕어빵 자동 판매 시스템\n",
    "\n",
    "\n",
    "당신은 붕어빵 가게의 주인입니다. \n",
    "\n",
    "손님들이 붕어빵을 주문하면 이를 자동으로 처리하고, 재고를 관리하는 시스템을 만들고자 합니다. 또한, 관리자 모드를 통해 재고를 추가할 수 있는 기능을 구현해야 합니다.\n"
   ]
  },
  {
   "cell_type": "markdown",
   "metadata": {},
   "source": [
    "[문제 1: 붕어빵 재고 확인]\n",
    "\n",
    "붕어빵 가게의 현재 재고를 확인하는 기능을 구현하세요.\n",
    "\n",
    "요구사항:\n",
    "- 현재 붕어빵의 재고를 딕셔너리로 관리합니다.\n",
    "- 딕셔너리에는 붕어빵의 종류와 각각의 재고 개수가 저장됩니다.\n",
    "- 현재 재고를 화면에 출력하세요.\n",
    "\n",
    "붕어빵 재고\n",
    "- 팥붕어빵 : 10개\n",
    "- 슈크림붕어빵 : 8개\n",
    "- 초코붕어빵 : 5개"
   ]
  },
  {
   "cell_type": "code",
   "metadata": {
    "ExecuteTime": {
     "end_time": "2024-10-19T11:59:31.306126Z",
     "start_time": "2024-10-19T11:59:31.302841Z"
    }
   },
   "source": [
    "stock = {\n",
    "    \"팥붕어빵\": 10,\n",
    "    \"슈크림붕어빵\": 8,\n",
    "    \"초코붕어빵\": 5\n",
    "}"
   ],
   "outputs": [],
   "execution_count": 21
  },
  {
   "cell_type": "markdown",
   "metadata": {},
   "source": [
    "[문제 2: 붕어빵 주문 받기]\n",
    "\n",
    "손님이 주문한 붕어빵의 종류와 개수를 입력받는 기능을 구현하세요.\n",
    "\n",
    "요구사항:\n",
    "- 손님이 주문할 붕어빵의 종류와 개수를 입력받습니다.\n",
    "- 주문 내용을 딕셔너리에 저장하세요.\n",
    "- 주문 내역을 출력해주세요."
   ]
  },
  {
   "cell_type": "markdown",
   "metadata": {},
   "source": []
  },
  {
   "cell_type": "code",
   "metadata": {
    "ExecuteTime": {
     "end_time": "2024-10-19T12:00:06.752042Z",
     "start_time": "2024-10-19T11:59:48.933465Z"
    }
   },
   "source": [
    "order = {}\n",
    "bread_type = input(\"주문할 붕어빵 종류를 입력하세요 (팥붕어빵, 슈크림붕어빵, 초코붕어빵): \")\n",
    "bread_count = int(input(\"주문할 붕어빵 개수를 입력하세요: \"))\n",
    "order[bread_type] = bread_count\n",
    "print(f\"주문 내역: {order}\")"
   ],
   "outputs": [
    {
     "ename": "KeyboardInterrupt",
     "evalue": "Interrupted by user",
     "output_type": "error",
     "traceback": [
      "\u001B[0;31m---------------------------------------------------------------------------\u001B[0m",
      "\u001B[0;31mKeyboardInterrupt\u001B[0m                         Traceback (most recent call last)",
      "Cell \u001B[0;32mIn[23], line 2\u001B[0m\n\u001B[1;32m      1\u001B[0m order \u001B[38;5;241m=\u001B[39m {}\n\u001B[0;32m----> 2\u001B[0m bread_type \u001B[38;5;241m=\u001B[39m \u001B[38;5;28;43minput\u001B[39;49m\u001B[43m(\u001B[49m\u001B[38;5;124;43m\"\u001B[39;49m\u001B[38;5;124;43m주문할 붕어빵 종류를 입력하세요 (팥붕어빵, 슈크림붕어빵, 초코붕어빵): \u001B[39;49m\u001B[38;5;124;43m\"\u001B[39;49m\u001B[43m)\u001B[49m\n\u001B[1;32m      3\u001B[0m bread_count \u001B[38;5;241m=\u001B[39m \u001B[38;5;28mint\u001B[39m(\u001B[38;5;28minput\u001B[39m(\u001B[38;5;124m\"\u001B[39m\u001B[38;5;124m주문할 붕어빵 개수를 입력하세요: \u001B[39m\u001B[38;5;124m\"\u001B[39m))\n\u001B[1;32m      4\u001B[0m order[bread_type] \u001B[38;5;241m=\u001B[39m bread_count\n",
      "File \u001B[0;32m~/Library/Python/3.13/lib/python/site-packages/ipykernel/kernelbase.py:1282\u001B[0m, in \u001B[0;36mKernel.raw_input\u001B[0;34m(self, prompt)\u001B[0m\n\u001B[1;32m   1280\u001B[0m     msg \u001B[38;5;241m=\u001B[39m \u001B[38;5;124m\"\u001B[39m\u001B[38;5;124mraw_input was called, but this frontend does not support input requests.\u001B[39m\u001B[38;5;124m\"\u001B[39m\n\u001B[1;32m   1281\u001B[0m     \u001B[38;5;28;01mraise\u001B[39;00m StdinNotImplementedError(msg)\n\u001B[0;32m-> 1282\u001B[0m \u001B[38;5;28;01mreturn\u001B[39;00m \u001B[38;5;28;43mself\u001B[39;49m\u001B[38;5;241;43m.\u001B[39;49m\u001B[43m_input_request\u001B[49m\u001B[43m(\u001B[49m\n\u001B[1;32m   1283\u001B[0m \u001B[43m    \u001B[49m\u001B[38;5;28;43mstr\u001B[39;49m\u001B[43m(\u001B[49m\u001B[43mprompt\u001B[49m\u001B[43m)\u001B[49m\u001B[43m,\u001B[49m\n\u001B[1;32m   1284\u001B[0m \u001B[43m    \u001B[49m\u001B[38;5;28;43mself\u001B[39;49m\u001B[38;5;241;43m.\u001B[39;49m\u001B[43m_parent_ident\u001B[49m\u001B[43m[\u001B[49m\u001B[38;5;124;43m\"\u001B[39;49m\u001B[38;5;124;43mshell\u001B[39;49m\u001B[38;5;124;43m\"\u001B[39;49m\u001B[43m]\u001B[49m\u001B[43m,\u001B[49m\n\u001B[1;32m   1285\u001B[0m \u001B[43m    \u001B[49m\u001B[38;5;28;43mself\u001B[39;49m\u001B[38;5;241;43m.\u001B[39;49m\u001B[43mget_parent\u001B[49m\u001B[43m(\u001B[49m\u001B[38;5;124;43m\"\u001B[39;49m\u001B[38;5;124;43mshell\u001B[39;49m\u001B[38;5;124;43m\"\u001B[39;49m\u001B[43m)\u001B[49m\u001B[43m,\u001B[49m\n\u001B[1;32m   1286\u001B[0m \u001B[43m    \u001B[49m\u001B[43mpassword\u001B[49m\u001B[38;5;241;43m=\u001B[39;49m\u001B[38;5;28;43;01mFalse\u001B[39;49;00m\u001B[43m,\u001B[49m\n\u001B[1;32m   1287\u001B[0m \u001B[43m\u001B[49m\u001B[43m)\u001B[49m\n",
      "File \u001B[0;32m~/Library/Python/3.13/lib/python/site-packages/ipykernel/kernelbase.py:1325\u001B[0m, in \u001B[0;36mKernel._input_request\u001B[0;34m(self, prompt, ident, parent, password)\u001B[0m\n\u001B[1;32m   1322\u001B[0m \u001B[38;5;28;01mexcept\u001B[39;00m \u001B[38;5;167;01mKeyboardInterrupt\u001B[39;00m:\n\u001B[1;32m   1323\u001B[0m     \u001B[38;5;66;03m# re-raise KeyboardInterrupt, to truncate traceback\u001B[39;00m\n\u001B[1;32m   1324\u001B[0m     msg \u001B[38;5;241m=\u001B[39m \u001B[38;5;124m\"\u001B[39m\u001B[38;5;124mInterrupted by user\u001B[39m\u001B[38;5;124m\"\u001B[39m\n\u001B[0;32m-> 1325\u001B[0m     \u001B[38;5;28;01mraise\u001B[39;00m \u001B[38;5;167;01mKeyboardInterrupt\u001B[39;00m(msg) \u001B[38;5;28;01mfrom\u001B[39;00m \u001B[38;5;28;01mNone\u001B[39;00m\n\u001B[1;32m   1326\u001B[0m \u001B[38;5;28;01mexcept\u001B[39;00m \u001B[38;5;167;01mException\u001B[39;00m:\n\u001B[1;32m   1327\u001B[0m     \u001B[38;5;28mself\u001B[39m\u001B[38;5;241m.\u001B[39mlog\u001B[38;5;241m.\u001B[39mwarning(\u001B[38;5;124m\"\u001B[39m\u001B[38;5;124mInvalid Message:\u001B[39m\u001B[38;5;124m\"\u001B[39m, exc_info\u001B[38;5;241m=\u001B[39m\u001B[38;5;28;01mTrue\u001B[39;00m)\n",
      "\u001B[0;31mKeyboardInterrupt\u001B[0m: Interrupted by user"
     ]
    }
   ],
   "execution_count": 23
  },
  {
   "cell_type": "markdown",
   "metadata": {},
   "source": [
    "[문제 3: 붕어빵 주문 처리]\n",
    "\n",
    "손님의 주문을 처리하여 붕어빵 재고를 업데이트하는 기능을 구현하세요.\n",
    "\n",
    "요구사항:\n",
    "- 손님의 주문 내용을 기반으로 재고를 업데이트합니다.\n",
    "- 재고가 부족할 경우, 손님에게 재고 부족을 알리고 재고를 감소시키지 않습니다.\n",
    "- 재고가 충분할 경우, 주문한 만큼 재고를 감소시키고 판매를 완료합니다.\n",
    "- 판매가 완료된 경우 판매된 붕어빵 맛과 개수를 출력하세요."
   ]
  },
  {
   "cell_type": "markdown",
   "metadata": {},
   "source": []
  },
  {
   "cell_type": "code",
   "metadata": {
    "ExecuteTime": {
     "end_time": "2024-10-19T12:01:30.970712Z",
     "start_time": "2024-10-19T12:01:30.956Z"
    }
   },
   "source": [
    "if stock[bread_type] >= bread_count:\n",
    "    stock[bread_type] -= bread_count\n",
    "    print(f\"{bread_type} {bread_count}개를 판매했습니다.\")\n",
    "else:\n",
    "    print(f\"죄송합니다. {bread_type} 재고가 부족합니다.\")"
   ],
   "outputs": [
    {
     "ename": "KeyError",
     "evalue": "'종료'",
     "output_type": "error",
     "traceback": [
      "\u001B[0;31m---------------------------------------------------------------------------\u001B[0m",
      "\u001B[0;31mKeyError\u001B[0m                                  Traceback (most recent call last)",
      "Cell \u001B[0;32mIn[25], line 1\u001B[0m\n\u001B[0;32m----> 1\u001B[0m \u001B[38;5;28;01mif\u001B[39;00m \u001B[43mstock\u001B[49m\u001B[43m[\u001B[49m\u001B[43mbread_type\u001B[49m\u001B[43m]\u001B[49m \u001B[38;5;241m>\u001B[39m\u001B[38;5;241m=\u001B[39m bread_count:\n\u001B[1;32m      2\u001B[0m     stock[bread_type] \u001B[38;5;241m-\u001B[39m\u001B[38;5;241m=\u001B[39m bread_count\n\u001B[1;32m      3\u001B[0m     \u001B[38;5;28mprint\u001B[39m(\u001B[38;5;124mf\u001B[39m\u001B[38;5;124m\"\u001B[39m\u001B[38;5;132;01m{\u001B[39;00mbread_type\u001B[38;5;132;01m}\u001B[39;00m\u001B[38;5;124m \u001B[39m\u001B[38;5;132;01m{\u001B[39;00mbread_count\u001B[38;5;132;01m}\u001B[39;00m\u001B[38;5;124m개를 판매했습니다.\u001B[39m\u001B[38;5;124m\"\u001B[39m)\n",
      "\u001B[0;31mKeyError\u001B[0m: '종료'"
     ]
    }
   ],
   "execution_count": 25
  },
  {
   "cell_type": "markdown",
   "metadata": {},
   "source": [
    "[문제 4: 여러 손님 주문 처리]\n",
    "\n",
    "여러 손님들의 주문을 처리할 수 있도록 시스템을 확장하세요.\n",
    "\n",
    "요구사항:\n",
    "- 손님이 \"종료\"를 입력할 때까지 주문을 계속 받습니다.\n",
    "- 각 주문마다 재고를 업데이트합니다.\n",
    "- 현재 재고를 화면에 출력합니다."
   ]
  },
  {
   "cell_type": "code",
   "metadata": {
    "ExecuteTime": {
     "end_time": "2024-10-19T11:55:38.563966Z",
     "start_time": "2024-10-19T11:55:33.580690Z"
    }
   },
   "source": [
    "while True:\n",
    "    bread_type = input(\"주문할 붕어빵 종류를 입력하세요 (팥붕어빵, 슈크림붕어빵, 초코붕어빵). 종료를 원하시면 '종료'를 입력하세요: \")\n",
    "    if bread_type == \"종료\":\n",
    "        break\n",
    "    bread_count = int(input(\"주문할 붕어빵 개수를 입력하세요: \"))\n",
    "    \n",
    "    if stock[bread_type] >= bread_count:\n",
    "        stock[bread_type] -= bread_count\n",
    "        print(f\"{bread_type} {bread_count}개를 판매했습니다.\")\n",
    "    else:\n",
    "        print(f\"죄송합니다. {bread_type} 재고가 부족합니다.\")\n",
    "    \n",
    "    print(\"현재 붕어빵 재고:\")\n",
    "    for bread, quantity in stock.items():\n",
    "        print(f\"{bread}: {quantity}개\")"
   ],
   "outputs": [],
   "execution_count": 14
  },
  {
   "cell_type": "markdown",
   "metadata": {},
   "source": [
    "[문제 5: 관리자 모드]\n",
    "\n",
    "관리자 모드를 통해 붕어빵 재고를 추가할 수 있는 기능을 구현하세요.\n",
    "\n",
    "요구사항:\n",
    "- 관리자는 특정 붕어빵의 재고를 추가할 수 있습니다.\n",
    "- \"종료\"를 입력하면 관리자 모드를 종료합니다.\n",
    "- 추가된 재고를 업데이트하고 현재 재고를 화면에 출력합니다."
   ]
  },
  {
   "cell_type": "code",
   "metadata": {
    "ExecuteTime": {
     "end_time": "2024-10-19T11:56:59.838543Z",
     "start_time": "2024-10-19T11:56:55.895716Z"
    }
   },
   "source": [
    "while True:\n",
    "    bread_type = input(\"추가할 붕어빵 종류를 입력하세요 (팥붕어빵, 슈크림붕어빵, 초코붕어빵). 종료를 원하시면 '종료'를 입력하세요: \")\n",
    "    if bread_type == \"종료\":\n",
    "        break\n",
    "    additional_stock = int(input(f\"{bread_type}의 추가할 개수를 입력하세요: \"))\n",
    "    stock[bread_type] += additional_stock\n",
    "    print(f\"{bread_type}의 재고가 {additional_stock}개 추가되었습니다.\")\n",
    "    print(\"현재 붕어빵 재고:\")\n",
    "    for bread, quantity in stock.items():\n",
    "        print(f\"{bread}: {quantity}개\")"
   ],
   "outputs": [],
   "execution_count": 16
  },
  {
   "cell_type": "markdown",
   "metadata": {},
   "source": [
    "[문제 6: 매출 확인]\n",
    "\n",
    "붕어빵 판매 가격을 설정하고, 판매한 붕어빵의 매출을 계산하세요.\n",
    "\n",
    "요구사항:\n",
    "- 각 붕어빵의 가격을 딕셔너리로 관리합니다.\n",
    "- 판매된 붕어빵의 종류와 개수를 딕셔너리로 관리합니다.\n",
    "- 총 매출을 계산하여 출력합니다.\n",
    "\n",
    "초기 설정:\n",
    "- 가격\n",
    "    - \"팥붕어빵\": 1000\n",
    "    - \"슈크림붕어빵\": 1200\n",
    "    - \"초코붕어빵\": 1500\n",
    "\n",
    "- 판매 개수\n",
    "    - \"팥붕어빵\": 0\n",
    "    - \"슈크림붕어빵\": 0\n",
    "    - \"초코붕어빵\": 0"
   ]
  },
  {
   "cell_type": "code",
   "execution_count": null,
   "metadata": {},
   "outputs": [],
   "source": [
    "prices = {\n",
    "    \"팥붕어빵\": 1000,\n",
    "    \"슈크림붕어빵\": 1200,\n",
    "    \"초코붕어빵\": 1500\n",
    "}\n",
    "sales = {\n",
    "    \"팥붕어빵\": 0,\n",
    "    \"슈크림붕어빵\": 0,\n",
    "    \"초코붕어빵\": 0\n",
    "}\n",
    "\n",
    "total_sales = sum(sales[bread] * prices[bread] for bread in sales)\n",
    "print(f\"총 매출: {total_sales}원\")"
   ]
  }
 ],
 "metadata": {
  "colab": {
   "authorship_tag": "ABX9TyMLQjyUmELFyKkx1AyovOFZ",
   "provenance": []
  },
  "kernelspec": {
   "display_name": "Python 3 (ipykernel)",
   "name": "python3",
   "language": "python"
  },
  "language_info": {
   "codemirror_mode": {
    "name": "ipython",
    "version": 3
   },
   "file_extension": ".py",
   "mimetype": "text/x-python",
   "name": "python",
   "nbconvert_exporter": "python",
   "pygments_lexer": "ipython3",
   "version": "3.11.7"
  }
 },
 "nbformat": 4,
 "nbformat_minor": 0
}
