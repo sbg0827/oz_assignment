{
 "cells": [
  {
   "cell_type": "code",
   "id": "initial_id",
   "metadata": {
    "collapsed": true,
    "ExecuteTime": {
     "end_time": "2024-10-21T08:05:40.162732Z",
     "start_time": "2024-10-21T08:05:40.158819Z"
    }
   },
   "source": [
    "stock = {\"팥붕어빵\" : 10, \n",
    "        \"슈크림붕어빵\" : 8, \n",
    "        \"초코붕어빵\" : 5}\n",
    "\n",
    "print(stock[\"초코붕어빵\"])"
   ],
   "outputs": [
    {
     "name": "stdout",
     "output_type": "stream",
     "text": [
      "5\n"
     ]
    }
   ],
   "execution_count": 4
  },
  {
   "metadata": {
    "ExecuteTime": {
     "end_time": "2024-10-21T08:12:24.257348Z",
     "start_time": "2024-10-21T08:12:24.252300Z"
    }
   },
   "cell_type": "code",
   "source": [
    "stock = {\"팥붕어빵\" : 10, \n",
    "        \"슈크림붕어빵\" : 8, \n",
    "        \"초코붕어빵\" : 5}\n",
    "\n",
    "while True:\n",
    "    mode = input(\"원하는 모드를 선택해주세요(주문, 관리자, 종료 : \")\n",
    "    if mode == \"종료\":\n",
    "        break\n",
    "    if mode == \"주문\":\n",
    "        while True:\n",
    "            bread_type = input(\"붕어빵 종류를 입력해주세요(팥붕어빵, 슈크림붕어빵, 초코붕어빵 중 하나를 선택해주세요) 뒤로 돌아가길 원하시면 돌아가기를 입력해주세요\")\n",
    "            if bread_type == \"돌아가기\":\n",
    "                break\n",
    "            bread_count = int(input(\"주문할 붕아빵 개수를 입력해주세요\"))\n",
    "            if stock[bread_type]\n",
    "    if mode == \"관리자\":\n",
    "        pass\n",
    "\n",
    "    "
   ],
   "id": "3f753876b4722ea7",
   "outputs": [
    {
     "ename": "SyntaxError",
     "evalue": "invalid syntax (2005715521.py, line 12)",
     "output_type": "error",
     "traceback": [
      "\u001B[0;36m  Cell \u001B[0;32mIn[13], line 12\u001B[0;36m\u001B[0m\n\u001B[0;31m    if == bread_type \"돌아가기\":\u001B[0m\n\u001B[0m       ^\u001B[0m\n\u001B[0;31mSyntaxError\u001B[0m\u001B[0;31m:\u001B[0m invalid syntax\n"
     ]
    }
   ],
   "execution_count": 13
  }
 ],
 "metadata": {
  "kernelspec": {
   "display_name": "Python 3",
   "language": "python",
   "name": "python3"
  },
  "language_info": {
   "codemirror_mode": {
    "name": "ipython",
    "version": 2
   },
   "file_extension": ".py",
   "mimetype": "text/x-python",
   "name": "python",
   "nbconvert_exporter": "python",
   "pygments_lexer": "ipython2",
   "version": "2.7.6"
  }
 },
 "nbformat": 4,
 "nbformat_minor": 5
}
